{
  "cells": [
    {"cell_type":"markdown","metadata":{},"source":["# 02-HOC-FDM: High-Order Compact Scheme"]},
    {"cell_type":"code","metadata":{},"source":["import numpy as np","from src.hoc_fdm import solve","import matplotlib.pyplot as plt"]},
    {"cell_type":"code","metadata":{},"source":["alpha=0.8; S_max=100; N=200; T=1; M=1000","grid=solve(alpha,S_max,N,T,M)"]},
    {"cell_type":"code","metadata":{},"source":["plt.loglog(grid[1:-1,-1] - grid[0:-2,-1])\nplt.title('Spatial Convergence')\nplt.show()"]}
  ],
  "metadata":{},"nbformat":4,"nbformat_minor":5
}
