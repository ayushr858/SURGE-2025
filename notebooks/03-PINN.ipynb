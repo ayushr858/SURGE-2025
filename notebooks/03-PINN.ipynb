{
  "cells": [
    {"cell_type":"markdown","metadata":{},"source":["# 03-PINN Solver"]},
    {"cell_type":"code","metadata":{},"source":["import torch\nfrom src.pinn import PINN, train"]},
    {"cell_type":"code","metadata":{},"source":["layers = [torch.nn.Linear(2,50), torch.nn.Tanh(), torch.nn.Linear(50,1)]","model=PINN(layers)"]},
    {"cell_type":"code","metadata":{},"source":["# define collocation points, bc/ic, optimizer","# train(model, epochs, ...)"]},
    {"cell_type":"markdown","metadata":{},"source":["## Training Loss Curve"]},
    {"cell_type":"code","metadata":{},"source":["# plt.plot(loss_history)"]}
  ],
  "metadata":{},"nbformat":4,"nbformat_minor":5
}
