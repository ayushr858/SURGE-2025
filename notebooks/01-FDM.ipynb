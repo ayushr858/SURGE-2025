{
  "cells": [
    {
      "cell_type": "markdown",
      "metadata": {},
      "source": ["# 01-FDM: Finite Difference Method"]
    },
    {
      "cell_type": "code",
      "metadata": {},
      "source": [
        "import numpy as np\n",
        "from src.fdm import solve\n",
        "import matplotlib.pyplot as plt"
      ]
    },
    {
      "cell_type": "markdown",
      "metadata": {},
      "source": ["## Parameters and Grid"]
    },
    {
      "cell_type": "code",
      "metadata": {},
      "source": [
        "alpha = 0.8\n",
        "S_max, N = 100.0, 200\n",
        "T, M = 1.0, 1000\n",
        "grid = solve(alpha, S_max, N, T, M)"
      ]
    },
    {
      "cell_type": "markdown",
      "metadata": {},
      "source": ["## Plot Final Solution"]
    },
    {
      "cell_type": "code",
      "metadata": {},
      "source": [
        "plt.plot(np.linspace(0, S_max, N+1), grid[:, -1])\n",
        "plt.title('FDM Solution at t=T')\n",
        "plt.xlabel('S')\n",
        "plt.ylabel('V(S,T)')\n",
        "plt.show()"
      ]
    }
  ],
  "metadata": {},
  "nbformat": 4,
  "nbformat_minor": 5
}
